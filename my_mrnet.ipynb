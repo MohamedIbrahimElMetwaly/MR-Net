{
  "nbformat": 4,
  "nbformat_minor": 0,
  "metadata": {
    "colab": {
      "name": "my-mrnet",
      "version": "0.3.2",
      "provenance": [],
      "collapsed_sections": []
    },
    "kernelspec": {
      "name": "python3",
      "display_name": "Python 3"
    },
    "accelerator": "GPU"
  },
  "cells": [
    {
      "cell_type": "code",
      "metadata": {
        "id": "LpIs7wGV3ZCx",
        "colab_type": "code",
        "colab": {}
      },
      "source": [
        "import numpy as np\n",
        "import _pickle as cPickle\n",
        "import matplotlib.pyplot as plt\n",
        "import torch\n",
        "import helper\n",
        "import torch.nn.functional as F\n",
        "import matplotlib.image as img\n",
        "import csv\n",
        "import cv2\n",
        "import os\n",
        "import pandas as pd\n",
        "\n",
        "from sklearn import metrics\n",
        "from PIL import Image\n",
        "from skimage import io, transform\n",
        "from skimage.color import gray2rgb\n",
        "from os import listdir\n",
        "from sklearn.model_selection import train_test_split\n",
        "from sklearn import preprocessing\n",
        "from torch import nn\n",
        "from torch import optim\n",
        "from torchsummary import summary\n",
        "from torchvision import datasets, transforms, models, utils\n",
        "from __future__ import print_function, division\n",
        "from torch.utils.data import Dataset, DataLoader\n",
        "\n",
        "# Ignore warnings\n",
        "import warnings\n",
        "warnings.filterwarnings(\"ignore\")\n"
      ],
      "execution_count": 0,
      "outputs": []
    },
    {
      "cell_type": "markdown",
      "metadata": {
        "id": "fCaCtRtim1nc",
        "colab_type": "text"
      },
      "source": [
        "# Loading The Dataset"
      ]
    },
    {
      "cell_type": "code",
      "metadata": {
        "id": "kAsRK4tF5KWQ",
        "colab_type": "code",
        "outputId": "feeac768-51a3-498d-a0c3-c286754ac829",
        "colab": {
          "base_uri": "https://localhost:8080/",
          "height": 34
        }
      },
      "source": [
        "from google.colab import drive\n",
        "drive.mount('/content/gdrive', force_remount=True)"
      ],
      "execution_count": 0,
      "outputs": [
        {
          "output_type": "stream",
          "text": [
            "Mounted at /content/gdrive\n"
          ],
          "name": "stdout"
        }
      ]
    },
    {
      "cell_type": "code",
      "metadata": {
        "id": "mL7_yU_b6byk",
        "colab_type": "code",
        "colab": {}
      },
      "source": [
        "#cd gdrive/My Drive\n",
        "!unzip \"/content/gdrive/My Drive/MRNet-v1.0.zip\""
      ],
      "execution_count": 0,
      "outputs": []
    },
    {
      "cell_type": "markdown",
      "metadata": {
        "id": "-tUT_n5NnGL3",
        "colab_type": "text"
      },
      "source": [
        "## Data Loader Class"
      ]
    },
    {
      "cell_type": "code",
      "metadata": {
        "id": "7MzvvM9RS_r3",
        "colab_type": "code",
        "colab": {}
      },
      "source": [
        "class MRNetDataset(Dataset):\n",
        "    \n",
        "    \"\"\" MRNet Dataset. \"\"\"\n",
        "    \n",
        "    def __init__(self, csv_file_abnormal, csv_file_meniscus, csv_file_acl, \n",
        "                    root_dir, view, transform=None):\n",
        "        \n",
        "        \"\"\" Takes input the paths for the csv files and the root directory\n",
        "        \"\"\"\n",
        "        \n",
        "        self.labels_abnormal_csv = pd.read_csv(csv_file_abnormal, header=None)\n",
        "        self.labels_meniscus_csv = pd.read_csv(csv_file_meniscus, header=None)\n",
        "        self.labels_acl_csv = pd.read_csv(csv_file_acl, header=None)\n",
        "        \n",
        "        \n",
        "        self.root_dir = root_dir\n",
        "        self.axial_dir = os.path.join(self.root_dir, \"axial\")\n",
        "        self.coronal_dir = os.path.join(self.root_dir, \"coronal\")\n",
        "        self.sagittal_dir = os.path.join(self.root_dir, \"sagittal\")\n",
        "        self.transform = transform\n",
        "        self.perspective = view\n",
        "        \n",
        "        self.train_transforms = transforms.Compose([transforms.ToTensor(),\n",
        "                                                    transforms.Normalize([0.485, 0.456, 0.406],\n",
        "                                                                         [0.229, 0.224, 0.225])])\n",
        "        \n",
        "        \n",
        "    def __len__(self):\n",
        "        \n",
        "        # all of them are of the same size so return the size of any of them\n",
        "        return len(self.labels_abnormal_csv)\n",
        "    \n",
        "    \n",
        "    def __getitem__(self, idx):\n",
        "        \n",
        "        #if the directory is valid then the idex starts from 1130, because we load by name\n",
        "        if 'valid' in self.root_dir:\n",
        "            idx = idx +1130\n",
        "        \n",
        "        \n",
        "        examination_name_axial = os.path.join(self.axial_dir, '{:04d}'.format(idx) + \".npy\")\n",
        "        examination_name_coronal = os.path.join(self.coronal_dir, '{:04d}'.format(idx) + \".npy\")\n",
        "        examination_name_sagittal = os.path.join(self.sagittal_dir, '{:04d}'.format(idx) + \".npy\")\n",
        "        \n",
        "        data = []\n",
        "        \n",
        "        if \"coronal\" in self.perspective:\n",
        "            an_examination = np.load(examination_name_coronal, allow_pickle=True)\n",
        "            \n",
        "            for i in range(len(an_examination)):\n",
        "                rgb = gray2rgb(an_examination[i])\n",
        "                \n",
        "                # resize image to 227*227*3\n",
        "                img = Image.fromarray(rgb)\n",
        "                basewidth = 224\n",
        "                wpercent = (basewidth / float(img.size[0]))\n",
        "                hsize = int((float(img.size[1]) * float(wpercent)))\n",
        "                img = img.resize((basewidth, hsize), Image.ANTIALIAS)\n",
        "                rgb = np.array(img)\n",
        "                \n",
        "                \n",
        "                rgb = self.train_transforms(rgb)\n",
        "                rgb = rgb.reshape(3,224,224)\n",
        "                            \n",
        "                data.append(rgb)\n",
        "            \n",
        "            \n",
        "        elif \"axial\" in self.perspective:\n",
        "            an_examination = np.load(examination_name_axial, allow_pickle=True)\n",
        "            \n",
        "            for i in range(len(an_examination)):\n",
        "                rgb = gray2rgb(an_examination[i])\n",
        "                            \n",
        "                            \n",
        "                # resize image to 227*227*3\n",
        "                img = Image.fromarray(rgb)\n",
        "                basewidth = 224\n",
        "                wpercent = (basewidth / float(img.size[0]))\n",
        "                hsize = int((float(img.size[1]) * float(wpercent)))\n",
        "                img = img.resize((basewidth, hsize), Image.ANTIALIAS)\n",
        "                rgb = np.array(img)\n",
        "                \n",
        "                \n",
        "                rgb = self.train_transforms(rgb)\n",
        "                rgb = rgb.reshape(3,224,224)            \n",
        "                data.append(rgb)\n",
        "            \n",
        "              \n",
        "        elif \"sagittal\" in self.perspective:\n",
        "            an_examination = np.load(examination_name_sagittal, allow_pickle=True)\n",
        "            \n",
        "            for i in range(len(an_examination)):\n",
        "                rgb = gray2rgb(an_examination[i])\n",
        "                            \n",
        "                # resize image to 227*227*3\n",
        "                img = Image.fromarray(rgb)\n",
        "                basewidth = 224\n",
        "                wpercent = (basewidth / float(img.size[0]))\n",
        "                hsize = int((float(img.size[1]) * float(wpercent)))\n",
        "                img = img.resize((basewidth, hsize), Image.ANTIALIAS)\n",
        "                rgb = np.array(img)            \n",
        "                \n",
        "                \n",
        "                rgb = self.train_transforms(rgb)\n",
        "                rgb = rgb.reshape(3,224,224)\n",
        "                                         \n",
        "                data.append(rgb)\n",
        "            \n",
        "        \n",
        "        # if valid return idx -1130, because in labels we load by index\n",
        "        if 'valid' in self.root_dir:\n",
        "            idx = idx -1130\n",
        "        \n",
        "        its_acl_label = self.labels_acl_csv.iloc[idx, 1]\n",
        "        its_meniscus_label = self.labels_meniscus_csv.iloc[idx, 1]\n",
        "        its_abnormal_label = self.labels_abnormal_csv.iloc[idx, 1]\n",
        "        \"\"\"\n",
        "        size_of_batch = len(an_examination)\n",
        "        its_acl_label = np.full((size_of_batch), its_acl_label)\n",
        "        its_meniscus_label = np.full((size_of_batch), its_meniscus_label)\n",
        "        its_abnormal_label = np.full((size_of_batch), its_abnormal_label)\n",
        "        \n",
        "        \n",
        "        #change to tensor\n",
        "        its_acl_label = torch.from_numpy(its_acl_label)\n",
        "        its_meniscus_label = torch.from_numpy(its_meniscus_label)\n",
        "        its_abnormal_label = torch.from_numpy(its_abnormal_label)\n",
        "        \n",
        "        \"\"\"\n",
        "        \n",
        "        its_acl_label = np.array([its_acl_label])\n",
        "        its_meniscus_label = np.array([its_meniscus_label])\n",
        "        its_abnormal_label = np.array([its_abnormal_label])\n",
        "        #change to tensor\n",
        "        its_acl_label = torch.from_numpy(its_acl_label)\n",
        "        its_meniscus_label = torch.from_numpy(its_meniscus_label)\n",
        "        its_abnormal_label = torch.from_numpy(its_abnormal_label)\n",
        "        \n",
        "        data = torch.stack(data)\n",
        "        sample = {'examination': data, 'abnormal': its_abnormal_label, \n",
        "                    'meniscus': its_meniscus_label, 'acl': its_acl_label }\n",
        "        \n",
        "\n",
        "        if self.transform:\n",
        "            sample = self.transform(sample)\n",
        "\n",
        "        return sample"
      ],
      "execution_count": 0,
      "outputs": []
    },
    {
      "cell_type": "code",
      "metadata": {
        "id": "mbKs29KSTuSv",
        "colab_type": "code",
        "outputId": "0db1ac52-425d-4dbf-d9f7-9eadfad0372c",
        "colab": {
          "base_uri": "https://localhost:8080/",
          "height": 202
        }
      },
      "source": [
        "csv_file_abnormal_train_path = \"/content/MRNet-v1.0/train-abnormal.csv\"\n",
        "csv_file_meniscus_train_path = \"/content/MRNet-v1.0/train-meniscus.csv\"\n",
        "csv_file_acl_train_path = \"/content/MRNet-v1.0/train-acl.csv\"\n",
        "train_root_dir = \"/content/MRNet-v1.0/train\"\n",
        "\n",
        "csv_file_abnormal_valid_path = \"/content/MRNet-v1.0/valid-abnormal.csv\"\n",
        "csv_file_meniscus_valid_path = \"/content/MRNet-v1.0/valid-meniscus.csv\"\n",
        "csv_file_acl_valid_path = \"/content/MRNet-v1.0/valid-acl.csv\"\n",
        "valid_root_dir = \"/content/MRNet-v1.0/valid\"\n",
        "\n",
        "MRNet_train_coronal = MRNetDataset(csv_file_abnormal=csv_file_abnormal_train_path, \n",
        "                                csv_file_meniscus=csv_file_meniscus_train_path, \n",
        "                                csv_file_acl=csv_file_acl_train_path,\n",
        "                                root_dir=train_root_dir,\n",
        "                                view=\"coronal\")\n",
        "MRNet_valid_coronal = MRNetDataset(csv_file_abnormal=csv_file_abnormal_valid_path, \n",
        "                                csv_file_meniscus=csv_file_meniscus_valid_path, \n",
        "                                csv_file_acl=csv_file_acl_valid_path,\n",
        "                                root_dir=valid_root_dir,\n",
        "                                view=\"coronal\")\n",
        "\n",
        "print(MRNet_train_coronal[0]['examination'].shape)\n",
        "print(MRNet_train_coronal[0]['acl'].shape)\n",
        "print(MRNet_train_coronal[0]['abnormal'].shape)\n",
        "print(MRNet_train_coronal[0]['meniscus'].shape)\n",
        "print(len(MRNet_train_coronal))\n",
        "print(\"---------------------------------------\")\n",
        "print(MRNet_valid_coronal[0]['examination'].shape)\n",
        "print(MRNet_valid_coronal[0]['acl'].shape)\n",
        "print(MRNet_valid_coronal[0]['abnormal'].shape)\n",
        "print(MRNet_valid_coronal[0]['meniscus'].shape)\n",
        "print(len(MRNet_valid_coronal))\n",
        "\n"
      ],
      "execution_count": 0,
      "outputs": [
        {
          "output_type": "stream",
          "text": [
            "torch.Size([36, 3, 224, 224])\n",
            "torch.Size([1])\n",
            "torch.Size([1])\n",
            "torch.Size([1])\n",
            "1130\n",
            "---------------------------------------\n",
            "torch.Size([25, 3, 224, 224])\n",
            "torch.Size([1])\n",
            "torch.Size([1])\n",
            "torch.Size([1])\n",
            "120\n"
          ],
          "name": "stdout"
        }
      ]
    },
    {
      "cell_type": "markdown",
      "metadata": {
        "id": "TV5hqgzanZLy",
        "colab_type": "text"
      },
      "source": [
        "# Using the GPU if Available"
      ]
    },
    {
      "cell_type": "code",
      "metadata": {
        "id": "wF3D59wblqOS",
        "colab_type": "code",
        "colab": {}
      },
      "source": [
        "device = torch.device(\"cuda\" if torch.cuda.is_available() else \"cpu\")"
      ],
      "execution_count": 0,
      "outputs": []
    },
    {
      "cell_type": "markdown",
      "metadata": {
        "id": "VAKN_O2Vn2hj",
        "colab_type": "text"
      },
      "source": [
        "# A Sample of the Dataset"
      ]
    },
    {
      "cell_type": "code",
      "metadata": {
        "id": "B4bZWONRWnAN",
        "colab_type": "code",
        "outputId": "62765884-8ee7-4038-de2e-1a039983d6ab",
        "colab": {
          "base_uri": "https://localhost:8080/",
          "height": 302
        }
      },
      "source": [
        "print(MRNet_train_coronal[0]['examination'][0].shape)\n",
        "plt.imshow(MRNet_train_coronal[0]['examination'][0].reshape(224,224,3))\n",
        "plt.show()"
      ],
      "execution_count": 0,
      "outputs": [
        {
          "output_type": "stream",
          "text": [
            "Clipping input data to the valid range for imshow with RGB data ([0..1] for floats or [0..255] for integers).\n"
          ],
          "name": "stderr"
        },
        {
          "output_type": "stream",
          "text": [
            "torch.Size([3, 224, 224])\n"
          ],
          "name": "stdout"
        },
        {
          "output_type": "display_data",
          "data": {
            "image/png": "[encoded data removed]",
            "text/plain": [
              "<Figure size 432x288 with 1 Axes>"
            ]
          },
          "metadata": {
            "tags": []
          }
        }
      ]
    },
    {
      "cell_type": "markdown",
      "metadata": {
        "id": "EFCV-cdAoFJI",
        "colab_type": "text"
      },
      "source": [
        "# The MRNet Model Using Pretrained AlexNet"
      ]
    },
    {
      "cell_type": "code",
      "metadata": {
        "id": "ZbkSgARulG6t",
        "colab_type": "code",
        "colab": {}
      },
      "source": [
        "# MRNet model\n",
        "class MRNet(nn.Module):\n",
        "    def __init__(self):\n",
        "        super().__init__()\n",
        "        self.model = models.alexnet(pretrained=True)\n",
        "        self.gap = nn.AdaptiveAvgPool2d(1)\n",
        "        self.classifier = nn.Sequential(nn.Linear(256, 256),\n",
        "                                        nn.Dropout(p=0.5),\n",
        "                                        nn.Linear(256, 2))\n",
        "\n",
        "    def forward(self, x):\n",
        "        x = torch.squeeze(x, dim=0) # only batch size 1 supported\n",
        "        x = self.model.features(x)\n",
        "        x = self.gap(x).view(x.size(0), -1)\n",
        "        x = torch.max(x, 0, keepdim=True)[0]\n",
        "        x = self.classifier(x)\n",
        "        x = F.log_softmax(x)\n",
        "        return x\n"
      ],
      "execution_count": 0,
      "outputs": []
    },
    {
      "cell_type": "markdown",
      "metadata": {
        "id": "slOmT7WooTmk",
        "colab_type": "text"
      },
      "source": [
        "# A Function to Train and Validate the Models"
      ]
    },
    {
      "cell_type": "code",
      "metadata": {
        "id": "lqGKXlmvlaam",
        "colab_type": "code",
        "colab": {}
      },
      "source": [
        "def train(epochs, mrnet_model, optimizer, criterion, scheduler, dataset_train, dataset_valid, label_name, file_name_to_save):\n",
        "    running_loss = 0\n",
        "    print_every = 1\n",
        "    validate_loss_min = 999999\n",
        "    train_losses, validate_losses, accuracies, f1_scores = [], [], [], []\n",
        "    for epoch in range(epochs):\n",
        "        running_loss = 0\n",
        "        for i in range(len(dataset_train)):\n",
        "            \n",
        "            # Move input and label tensors to the default device\n",
        "            sample = dataset_train[i]\n",
        "            inputs, labels = sample['examination'], sample[label_name]\n",
        "\n",
        "            inputs = inputs.float()\n",
        "            labels = labels.long()\n",
        "\n",
        "            inputs, labels = inputs.to(device), labels.to(device)\n",
        "\n",
        "\n",
        "\n",
        "            logps = mrnet_model.forward(inputs)\n",
        "            loss = criterion(logps, labels)\n",
        "\n",
        "            optimizer.zero_grad()\n",
        "            loss.backward()\n",
        "            optimizer.step()\n",
        "\n",
        "            running_loss += loss.item()\n",
        "\n",
        "\n",
        "\n",
        "        else:\n",
        "            test_loss = 0\n",
        "            accuracy = 0\n",
        "            correct = 0\n",
        "            model_predictions, true_labels = [], []\n",
        "\n",
        "            # Turn off gradients for validation, saves memory and computations\n",
        "            with torch.no_grad():\n",
        "                mrnet_model.eval()\n",
        "                for i in range(len(dataset_valid)):\n",
        "\n",
        "                    sample = dataset_valid[i]\n",
        "                    inputs, labels = sample['examination'], sample[label_name]\n",
        "\n",
        "                    inputs = inputs.float()\n",
        "                    labels = labels.long()\n",
        "\n",
        "                    inputs, labels = inputs.to(device), labels.to(device)\n",
        "\n",
        "                    logps = mrnet_model.forward(inputs)\n",
        "                    batch_loss = criterion(logps, labels)\n",
        "\n",
        "                    test_loss += batch_loss.item()\n",
        "\n",
        "                    # Calculate accuracy\n",
        "                    ps = torch.exp(logps)\n",
        "                    top_p, top_class = ps.topk(1, dim=1)\n",
        "                    equals = top_class == labels.view(*top_class.shape)\n",
        "                    accuracy += torch.mean(equals.type(torch.FloatTensor)).item()\n",
        "                    \n",
        "                    a = top_class.cpu()\n",
        "                    b = labels.cpu()\n",
        "                    \n",
        "                    a = a.data.item()\n",
        "                    b = b.data.item()\n",
        "                    \n",
        "                    \n",
        "                    model_predictions.append(a)\n",
        "                    true_labels.append(b)\n",
        "\n",
        "\n",
        "\n",
        "            mrnet_model.train()\n",
        "            \n",
        "            train_losses.append(running_loss/1130.0)\n",
        "            validate_losses.append(test_loss/120.0)\n",
        "            accuracies.append(accuracy/120.0)\n",
        "            \n",
        "            \"\"\"\n",
        "            true_labels = torch.stack(true_labels)\n",
        "            model_predictions = torch.stack(model_predictions)\n",
        "            \n",
        "            true_labels = true_labels.numpy()\n",
        "            model_predictions = model_predictions.numpy()\n",
        "            \"\"\"\n",
        "            \n",
        "            \n",
        "            epoch_f1_score = metrics.f1_score(true_labels, model_predictions)\n",
        "            f1_scores.append(epoch_f1_score)\n",
        "            \n",
        "            scheduler.step(validate_losses[-1])\n",
        "            \n",
        "            # save the model with the minimum validation loss\n",
        "            if validate_losses[-1] <= validate_loss_min:\n",
        "                print('Validation loss decreased ({:.6f} --> {:.6f}).  Saving model ...'.format(\n",
        "                validate_loss_min, validate_losses[-1]))\n",
        "                torch.save(mrnet_model.state_dict(), file_name_to_save)\n",
        "                validate_loss_min = validate_losses[-1]\n",
        "            \n",
        "            print(\"Epoch: {}/{}.. \".format(epoch+1, epochs),\n",
        "                  \"Training Loss: {:.3f}.. \".format(train_losses[-1]),\n",
        "                  \"Validation Loss: {:.3f}.. \".format(validate_losses[-1]),\n",
        "                  \"Validation Accuracy: {:.3f}\".format(accuracy/120.0),\n",
        "                  \"Validation F1-Score: {:.3f}\".format(epoch_f1_score))\n",
        "    return train_losses, validate_losses, accuracies, f1_scores            \n",
        "            "
      ],
      "execution_count": 0,
      "outputs": []
    },
    {
      "cell_type": "markdown",
      "metadata": {
        "id": "9hI3ku8szD53",
        "colab_type": "text"
      },
      "source": [
        "# A Function to Evaluate an Ensemble of Models Detecting the Same Thing\n",
        "\n",
        "This Function will take three instances of the model each trained on the axial, coronal, or sagittal exam dataset for detecting the presence of either acl tears, abnormalities, or meniscal tears and will decide the output as the maximum vote of the three models."
      ]
    },
    {
      "cell_type": "code",
      "metadata": {
        "id": "sDPMuzAUvpB0",
        "colab_type": "code",
        "colab": {}
      },
      "source": [
        "def ensumble_evaluation(criterion, model_axial, model_coronal, model_sagittal, dataset_axial, dataset_coronal, dataset_sagittal, label_name):\n",
        "    \n",
        "    test_loss_axial = 0\n",
        "    test_loss_coronal = 0\n",
        "    test_loss_sagittal = 0\n",
        "    accuracy = 0\n",
        "    correct = 0\n",
        "\n",
        "    # Turn off gradients for validation, saves memory and computations\n",
        "    with torch.no_grad():\n",
        "        model_axial.eval()\n",
        "        model_coronal.eval()\n",
        "        model_sagittal.eval()\n",
        "        \n",
        "        \n",
        "        for i in range(len(dataset_valid)):\n",
        "            \n",
        "            class_0, class_1 = 0,0\n",
        "\n",
        "            sample_axial = dataset_axial[i]\n",
        "            sample_coronal = dataset_coronal[i]\n",
        "            sample_sagittal = dataset_sagittal[i]\n",
        "    \n",
        "            inputs_axial, labels_axial = sample_axial['examination'], sample_axial[label_name]\n",
        "            inputs_coronal, labels_coronal = sample_coronal['examination'], sample_coronal[label_name]\n",
        "            inputs_sagittal, labels_sagittal = sample_sagittal['examination'], sample_sagittal[label_name]\n",
        "\n",
        "            inputs_axial = inputs_axial.float()\n",
        "            labels_axial = labels_axial.long()\n",
        "    \n",
        "            inputs_coronal = inputs_coronal.float()\n",
        "            labels_coronal = labels_coronal.long()\n",
        "    \n",
        "            inputs_sagittal = inputs_sagittal.float()\n",
        "            labels_sagittal = labels_sagittal.long()\n",
        "\n",
        "            inputs_axial, labels_axial = inputs_axial.to(device), labels_axial.to(device)\n",
        "            inputs_coronal, labels_coronal = inputs_coronal.to(device), labels_coronal.to(device)\n",
        "            inputs_sagittal, labels_sagittal = inputs_sagittal.to(device), labels_sagittal.to(device)\n",
        "    \n",
        "\n",
        "            logps_axial = model_axial.forward(inputs_axial)\n",
        "            batch_loss_axial = criterion(logps_axial, labels_axial)\n",
        "            test_loss_axial += batch_loss_axial.item()\n",
        "    \n",
        "            logps_coronal = model_coronal.forward(inputs_coronal)\n",
        "            batch_loss_coronal = criterion(logps_coronal, labels_coronal)\n",
        "            test_loss_coronal += batch_loss_coronal.item()\n",
        "    \n",
        "            logps_sagittal = model_sagittal.forward(inputs_axial)\n",
        "            batch_loss_sagittal = criterion(logps_sagittal, labels_sagittal)\n",
        "            test_loss_sagittal += batch_loss_sagittal.item()\n",
        "\n",
        "            # Calculate accuracy\n",
        "            ps_axial = torch.exp(logps_axial)\n",
        "            ps_coronal = torch.exp(logps_coronal)\n",
        "            ps_sagittal = torch.exp(logps_sagittal)\n",
        "    \n",
        "            \n",
        "            top_p_axial, top_class_axial = ps_axial.topk(1, dim=1)\n",
        "            top_p_coronal, top_class_coronal = ps_coronal.topk(1, dim=1)\n",
        "            top_p_sagittal, top_class_sagittal = ps_sagittal.topk(1, dim=1)\n",
        "    \n",
        "            # check how many model predicted 0 and 1\n",
        "            if top_class_axial == 0:\n",
        "                class_0 += 1\n",
        "            else:\n",
        "                class_1 += 1\n",
        "    \n",
        "            if top_class_coronal == 0:\n",
        "                class_0 += 1\n",
        "            else:\n",
        "                class_1 += 1\n",
        "    \n",
        "            if top_class_sagittal == 0:\n",
        "                class_0 += 1\n",
        "            else:\n",
        "                class_1 += 1\n",
        "    \n",
        "            # voting results\n",
        "            if class_0 > class_1:\n",
        "                top_class = 0\n",
        "            else:\n",
        "                top_class = 1\n",
        "            \n",
        "        \n",
        "            equals = top_class == labels.view(*top_class.shape)\n",
        "            accuracy += torch.mean(equals.type(torch.FloatTensor)).item()\n",
        "        \n",
        "\n",
        "        \n",
        "        model_axial.train()\n",
        "        model_coronal.train()\n",
        "        model_sagittal.train()\n",
        "          \n",
        "        train_losses.append(running_loss/1130.0)\n",
        "        validate_losses.append(test_loss/120.0)\n",
        "        scheduler.step(validate_losses[-1])\n",
        "        print(\"Epoch: {}/{}.. \".format(epoch+1, epochs),\n",
        "              \"Training Loss: {:.3f}.. \".format(train_losses[-1]),\n",
        "              \"Validation Loss: {:.3f}.. \".format(validate_losses[-1]),\n",
        "              \"Validation Accuracy: {:.3f}\".format(accuracy/120.0))"
      ],
      "execution_count": 0,
      "outputs": []
    },
    {
      "cell_type": "markdown",
      "metadata": {
        "id": "bEYR2Z93qFGn",
        "colab_type": "text"
      },
      "source": [
        "# Creating the Datasets Used for Training the Models"
      ]
    },
    {
      "cell_type": "code",
      "metadata": {
        "id": "S8DqciuelfQH",
        "colab_type": "code",
        "colab": {}
      },
      "source": [
        "#Coronal dataset\n",
        "MRNet_train_coronal = MRNetDataset(csv_file_abnormal=csv_file_abnormal_train_path, \n",
        "                                csv_file_meniscus=csv_file_meniscus_train_path, \n",
        "                                csv_file_acl=csv_file_acl_train_path,\n",
        "                                root_dir=train_root_dir,\n",
        "                                view=\"coronal\")\n",
        "MRNet_valid_coronal = MRNetDataset(csv_file_abnormal=csv_file_abnormal_valid_path, \n",
        "                                csv_file_meniscus=csv_file_meniscus_valid_path, \n",
        "                                csv_file_acl=csv_file_acl_valid_path,\n",
        "                                root_dir=valid_root_dir,\n",
        "                                view=\"coronal\")\n",
        "\n",
        "#Axial dataset\n",
        "MRNet_train_axial = MRNetDataset(csv_file_abnormal=csv_file_abnormal_train_path, \n",
        "                                csv_file_meniscus=csv_file_meniscus_train_path, \n",
        "                                csv_file_acl=csv_file_acl_train_path,\n",
        "                                root_dir=train_root_dir,\n",
        "                                view=\"axial\")\n",
        "MRNet_valid_axial = MRNetDataset(csv_file_abnormal=csv_file_abnormal_valid_path, \n",
        "                                csv_file_meniscus=csv_file_meniscus_valid_path, \n",
        "                                csv_file_acl=csv_file_acl_valid_path,\n",
        "                                root_dir=valid_root_dir,\n",
        "                                view=\"axial\")\n",
        "\n",
        "#Sagittal dataset\n",
        "MRNet_train_sagittal = MRNetDataset(csv_file_abnormal=csv_file_abnormal_train_path, \n",
        "                                csv_file_meniscus=csv_file_meniscus_train_path, \n",
        "                                csv_file_acl=csv_file_acl_train_path,\n",
        "                                root_dir=train_root_dir,\n",
        "                                view=\"sagittal\")\n",
        "MRNet_valid_sagittal = MRNetDataset(csv_file_abnormal=csv_file_abnormal_valid_path, \n",
        "                                csv_file_meniscus=csv_file_meniscus_valid_path, \n",
        "                                csv_file_acl=csv_file_acl_valid_path,\n",
        "                                root_dir=valid_root_dir,\n",
        "                                view=\"sagittal\")"
      ],
      "execution_count": 0,
      "outputs": []
    },
    {
      "cell_type": "markdown",
      "metadata": {
        "id": "2dVUcBKlrYFk",
        "colab_type": "text"
      },
      "source": [
        "# Creating and Training the Model"
      ]
    },
    {
      "cell_type": "code",
      "metadata": {
        "id": "VfpgDGnlIiB7",
        "colab_type": "code",
        "colab": {}
      },
      "source": [
        "criterion = nn.NLLLoss()\n",
        "epochs = [*range(1, 11)]"
      ],
      "execution_count": 0,
      "outputs": []
    },
    {
      "cell_type": "markdown",
      "metadata": {
        "id": "SZpVH0ldsp2k",
        "colab_type": "text"
      },
      "source": [
        "## Training the Model on Three Datasets for Detecting Abnormalities\n",
        "One for the coronal exams dataset, one for the sagittal exam dataset, and one for the axial exam dataset."
      ]
    },
    {
      "cell_type": "code",
      "metadata": {
        "id": "_6ejLhtVsMy0",
        "colab_type": "code",
        "outputId": "2a1b7186-97bc-4b7d-e052-ba5cb98984d9",
        "colab": {
          "base_uri": "https://localhost:8080/",
          "height": 269
        }
      },
      "source": [
        "# training the model with the axial exam dataset\n",
        "mrnet_model_axial_abnormal = MRNet()\n",
        "for param in mrnet_model_axial_abnormal.model.parameters():\n",
        "    param.requires_grad = False\n",
        "optimizer = optim.Adam(mrnet_model_axial_abnormal.classifier.parameters(), lr= 0.001)\n",
        "scheduler = torch.optim.lr_scheduler.ReduceLROnPlateau(optimizer)\n",
        "mrnet_model_axial_abnormal.to(device)\n",
        "train_losses, validate_losses, accuracies, f1_scores = train(10, mrnet_model_axial_abnormal, optimizer, criterion, \n",
        "                                                             scheduler, MRNet_train_axial, MRNet_valid_axial, 'abnormal', 'axial_abnormal.pt')\n",
        "\n",
        "\n"
      ],
      "execution_count": 0,
      "outputs": [
        {
          "output_type": "stream",
          "text": [
            "Validation loss decreased (999999.000000 --> 0.429347).  Saving model ...\n",
            "Epoch: 1/10..  Training Loss: 0.786..  Validation Loss: 0.429..  Validation Accuracy: 0.817 Validation F1-Score: 0.889\n",
            "Validation loss decreased (0.429347 --> 0.399423).  Saving model ...\n",
            "Epoch: 2/10..  Training Loss: 0.594..  Validation Loss: 0.399..  Validation Accuracy: 0.833 Validation F1-Score: 0.901\n",
            "Validation loss decreased (0.399423 --> 0.386147).  Saving model ...\n",
            "Epoch: 3/10..  Training Loss: 0.621..  Validation Loss: 0.386..  Validation Accuracy: 0.858 Validation F1-Score: 0.917\n",
            "Epoch: 4/10..  Training Loss: 0.562..  Validation Loss: 0.393..  Validation Accuracy: 0.825 Validation F1-Score: 0.900\n",
            "Epoch: 5/10..  Training Loss: 0.596..  Validation Loss: 0.508..  Validation Accuracy: 0.758 Validation F1-Score: 0.832\n",
            "Validation loss decreased (0.386147 --> 0.373049).  Saving model ...\n",
            "Epoch: 6/10..  Training Loss: 0.564..  Validation Loss: 0.373..  Validation Accuracy: 0.842 Validation F1-Score: 0.906\n",
            "Epoch: 7/10..  Training Loss: 0.597..  Validation Loss: 0.383..  Validation Accuracy: 0.817 Validation F1-Score: 0.884\n",
            "Epoch: 8/10..  Training Loss: 0.565..  Validation Loss: 0.436..  Validation Accuracy: 0.817 Validation F1-Score: 0.882\n",
            "Epoch: 9/10..  Training Loss: 0.578..  Validation Loss: 0.459..  Validation Accuracy: 0.792 Validation F1-Score: 0.859\n",
            "Validation loss decreased (0.373049 --> 0.365441).  Saving model ...\n",
            "Epoch: 10/10..  Training Loss: 0.623..  Validation Loss: 0.365..  Validation Accuracy: 0.850 Validation F1-Score: 0.911\n"
          ],
          "name": "stdout"
        }
      ]
    },
    {
      "cell_type": "code",
      "metadata": {
        "id": "_Oz0E-wRPvpF",
        "colab_type": "code",
        "outputId": "44330b52-391e-4e64-cb50-472f08c08f0f",
        "colab": {
          "base_uri": "https://localhost:8080/",
          "height": 283
        }
      },
      "source": [
        "plt.plot(epochs, train_losses, 'ro')\n",
        "plt.ylabel('train losses')\n",
        "plt.xlabel('epochs')\n",
        "plt.show()"
      ],
      "execution_count": 0,
      "outputs": [
        {
          "output_type": "display_data",
          "data": {
            "image/png": "[encoded data removed]",
            "text/plain": [
              "<Figure size 432x288 with 1 Axes>"
            ]
          },
          "metadata": {
            "tags": []
          }
        }
      ]
    },
    {
      "cell_type": "code",
      "metadata": {
        "id": "vz3GIZKqQHeb",
        "colab_type": "code",
        "outputId": "17c73862-216f-4d42-a066-cbd17d17efb7",
        "colab": {
          "base_uri": "https://localhost:8080/",
          "height": 283
        }
      },
      "source": [
        "plt.plot(epochs, validate_losses, 'ro')\n",
        "plt.ylabel('validate losses')\n",
        "plt.xlabel('epochs')\n",
        "plt.show()"
      ],
      "execution_count": 0,
      "outputs": [
        {
          "output_type": "display_data",
          "data": {
            "image/png": "[encoded data removed]",
            "text/plain": [
              "<Figure size 432x288 with 1 Axes>"
            ]
          },
          "metadata": {
            "tags": []
          }
        }
      ]
    },
    {
      "cell_type": "code",
      "metadata": {
        "id": "E1P7SqjxQY9W",
        "colab_type": "code",
        "outputId": "5d0570b7-de8a-4b20-f91a-1a62af50fb3a",
        "colab": {
          "base_uri": "https://localhost:8080/",
          "height": 283
        }
      },
      "source": [
        "plt.plot(epochs, accuracies, 'ro')\n",
        "plt.ylabel('accuracies')\n",
        "plt.xlabel('epochs')\n",
        "plt.show()"
      ],
      "execution_count": 0,
      "outputs": [
        {
          "output_type": "display_data",
          "data": {
            "image/png": "[encoded data removed]",
            "text/plain": [
              "<Figure size 432x288 with 1 Axes>"
            ]
          },
          "metadata": {
            "tags": []
          }
        }
      ]
    },
    {
      "cell_type": "code",
      "metadata": {
        "id": "Hgkmelt3QiMi",
        "colab_type": "code",
        "outputId": "44be1f3f-448f-4b8c-8822-8cf01c7b4093",
        "colab": {
          "base_uri": "https://localhost:8080/",
          "height": 283
        }
      },
      "source": [
        "plt.plot(epochs, f1_scores, 'ro')\n",
        "plt.ylabel('f1 scores')\n",
        "plt.xlabel('epochs')\n",
        "plt.show()"
      ],
      "execution_count": 0,
      "outputs": [
        {
          "output_type": "display_data",
          "data": {
            "image/png": "[encoded data removed]",
            "text/plain": [
              "<Figure size 432x288 with 1 Axes>"
            ]
          },
          "metadata": {
            "tags": []
          }
        }
      ]
    },
    {
      "cell_type": "code",
      "metadata": {
        "id": "L71f24oj5QO7",
        "colab_type": "code",
        "outputId": "c0d8250e-4719-40ed-b133-2923ad7e28db",
        "colab": {
          "base_uri": "https://localhost:8080/",
          "height": 235
        }
      },
      "source": [
        "# training the model with the coronal exam dataset\n",
        "mrnet_model_coronal_abnormal = MRNet()\n",
        "for param in mrnet_model_coronal_abnormal.model.parameters():\n",
        "    param.requires_grad = False\n",
        "optimizer = optim.Adam(mrnet_model_coronal_abnormal.classifier.parameters(), lr= 0.001)\n",
        "scheduler = torch.optim.lr_scheduler.ReduceLROnPlateau(optimizer)\n",
        "mrnet_model_coronal_abnormal.to(device)\n",
        "train_losses, validate_losses, accuracies, f1_scores = train(10, mrnet_model_coronal_abnormal, optimizer, criterion, \n",
        "                                                             scheduler, MRNet_train_coronal, MRNet_valid_coronal, 'abnormal', 'coronal_abnormal.pt')\n",
        "\n"
      ],
      "execution_count": 0,
      "outputs": [
        {
          "output_type": "stream",
          "text": [
            "Validation loss decreased (999999.000000 --> 0.497068).  Saving model ...\n",
            "Epoch: 1/10..  Training Loss: 0.755..  Validation Loss: 0.497..  Validation Accuracy: 0.775 Validation F1-Score: 0.862\n",
            "Epoch: 2/10..  Training Loss: 0.587..  Validation Loss: 0.501..  Validation Accuracy: 0.742 Validation F1-Score: 0.832\n",
            "Validation loss decreased (0.497068 --> 0.485285).  Saving model ...\n",
            "Epoch: 3/10..  Training Loss: 0.597..  Validation Loss: 0.485..  Validation Accuracy: 0.783 Validation F1-Score: 0.865\n",
            "Epoch: 4/10..  Training Loss: 0.596..  Validation Loss: 0.576..  Validation Accuracy: 0.708 Validation F1-Score: 0.800\n",
            "Epoch: 5/10..  Training Loss: 0.599..  Validation Loss: 0.532..  Validation Accuracy: 0.817 Validation F1-Score: 0.888\n",
            "Epoch: 6/10..  Training Loss: 0.628..  Validation Loss: 0.511..  Validation Accuracy: 0.758 Validation F1-Score: 0.843\n",
            "Validation loss decreased (0.485285 --> 0.476579).  Saving model ...\n",
            "Epoch: 7/10..  Training Loss: 0.533..  Validation Loss: 0.477..  Validation Accuracy: 0.808 Validation F1-Score: 0.881\n",
            "Epoch: 8/10..  Training Loss: 0.642..  Validation Loss: 0.587..  Validation Accuracy: 0.775 Validation F1-Score: 0.857\n",
            "Epoch: 9/10..  Training Loss: 0.601..  Validation Loss: 0.513..  Validation Accuracy: 0.792 Validation F1-Score: 0.874\n",
            "Epoch: 10/10..  Training Loss: 0.542..  Validation Loss: 0.548..  Validation Accuracy: 0.792 Validation F1-Score: 0.868\n"
          ],
          "name": "stdout"
        }
      ]
    },
    {
      "cell_type": "code",
      "metadata": {
        "id": "QdZ_KIYFQsI_",
        "colab_type": "code",
        "outputId": "11368fb7-33ca-4a06-eadf-5d0ddb51a4d9",
        "colab": {
          "base_uri": "https://localhost:8080/",
          "height": 283
        }
      },
      "source": [
        "plt.plot(epochs, train_losses, 'ro')\n",
        "plt.ylabel('train losses')\n",
        "plt.xlabel('epochs')\n",
        "plt.show()"
      ],
      "execution_count": 0,
      "outputs": [
        {
          "output_type": "display_data",
          "data": {
            "image/png": "[encoded data removed]",
            "text/plain": [
              "<Figure size 432x288 with 1 Axes>"
            ]
          },
          "metadata": {
            "tags": []
          }
        }
      ]
    },
    {
      "cell_type": "code",
      "metadata": {
        "id": "oVzq8ykMQr5M",
        "colab_type": "code",
        "outputId": "f01ef2e3-b9b1-4324-beeb-2c4e8b16c627",
        "colab": {
          "base_uri": "https://localhost:8080/",
          "height": 283
        }
      },
      "source": [
        "plt.plot(epochs, validate_losses, 'ro')\n",
        "plt.ylabel('validate losses')\n",
        "plt.xlabel('epochs')\n",
        "plt.show()"
      ],
      "execution_count": 0,
      "outputs": [
        {
          "output_type": "display_data",
          "data": {
            "image/png": "[encoded data removed]",
            "text/plain": [
              "<Figure size 432x288 with 1 Axes>"
            ]
          },
          "metadata": {
            "tags": []
          }
        }
      ]
    },
    {
      "cell_type": "code",
      "metadata": {
        "id": "NwQhEBoxQrnm",
        "colab_type": "code",
        "outputId": "1263bb53-37c1-439d-d5f4-19b3eb734491",
        "colab": {
          "base_uri": "https://localhost:8080/",
          "height": 283
        }
      },
      "source": [
        "plt.plot(epochs, accuracies, 'ro')\n",
        "plt.ylabel('accuracies')\n",
        "plt.xlabel('epochs')\n",
        "plt.show()"
      ],
      "execution_count": 0,
      "outputs": [
        {
          "output_type": "display_data",
          "data": {
            "image/png": "[encoded data removed]",
            "text/plain": [
              "<Figure size 432x288 with 1 Axes>"
            ]
          },
          "metadata": {
            "tags": []
          }
        }
      ]
    },
    {
      "cell_type": "code",
      "metadata": {
        "id": "AXJTw29WQrDK",
        "colab_type": "code",
        "outputId": "fa931bf0-0583-46a6-a48d-e0dfa16d4cfc",
        "colab": {
          "base_uri": "https://localhost:8080/",
          "height": 283
        }
      },
      "source": [
        "plt.plot(epochs, f1_scores, 'ro')\n",
        "plt.ylabel('f1 scores')\n",
        "plt.xlabel('epochs')\n",
        "plt.show()"
      ],
      "execution_count": 0,
      "outputs": [
        {
          "output_type": "display_data",
          "data": {
            "image/png": "[encoded data removed]",
            "text/plain": [
              "<Figure size 432x288 with 1 Axes>"
            ]
          },
          "metadata": {
            "tags": []
          }
        }
      ]
    },
    {
      "cell_type": "code",
      "metadata": {
        "id": "f7R-NpWg5Wpi",
        "colab_type": "code",
        "outputId": "7d508063-c77d-43aa-c5d2-ee94ba778205",
        "colab": {
          "base_uri": "https://localhost:8080/",
          "height": 252
        }
      },
      "source": [
        "# training the model with the sagittal exam dataset\n",
        "mrnet_model_sagittal_abnormal = MRNet()\n",
        "for param in mrnet_model_sagittal_abnormal.model.parameters():\n",
        "    param.requires_grad = False\n",
        "optimizer = optim.Adam(mrnet_model_sagittal_abnormal.classifier.parameters(), lr= 0.001)\n",
        "scheduler = torch.optim.lr_scheduler.ReduceLROnPlateau(optimizer)\n",
        "mrnet_model_sagittal_abnormal.to(device)\n",
        "train_losses, validate_losses, accuracies, f1_scores = train(10, mrnet_model_sagittal_abnormal, optimizer, criterion, \n",
        "                                                             scheduler, MRNet_train_sagittal, MRNet_valid_sagittal, 'abnormal', 'sagittal_abnormal.pt')\n",
        "\n"
      ],
      "execution_count": 0,
      "outputs": [
        {
          "output_type": "stream",
          "text": [
            "Validation loss decreased (999999.000000 --> 0.365848).  Saving model ...\n",
            "Epoch: 1/10..  Training Loss: 0.724..  Validation Loss: 0.366..  Validation Accuracy: 0.875 Validation F1-Score: 0.925\n",
            "Validation loss decreased (0.365848 --> 0.318910).  Saving model ...\n",
            "Epoch: 2/10..  Training Loss: 0.584..  Validation Loss: 0.319..  Validation Accuracy: 0.858 Validation F1-Score: 0.917\n",
            "Epoch: 3/10..  Training Loss: 0.565..  Validation Loss: 0.473..  Validation Accuracy: 0.792 Validation F1-Score: 0.848\n",
            "Validation loss decreased (0.318910 --> 0.305466).  Saving model ...\n",
            "Epoch: 4/10..  Training Loss: 0.585..  Validation Loss: 0.305..  Validation Accuracy: 0.875 Validation F1-Score: 0.925\n",
            "Validation loss decreased (0.305466 --> 0.272454).  Saving model ...\n",
            "Epoch: 5/10..  Training Loss: 0.560..  Validation Loss: 0.272..  Validation Accuracy: 0.892 Validation F1-Score: 0.936\n",
            "Epoch: 6/10..  Training Loss: 0.514..  Validation Loss: 0.400..  Validation Accuracy: 0.833 Validation F1-Score: 0.885\n",
            "Epoch: 7/10..  Training Loss: 0.530..  Validation Loss: 0.275..  Validation Accuracy: 0.875 Validation F1-Score: 0.923\n",
            "Epoch: 8/10..  Training Loss: 0.599..  Validation Loss: 0.287..  Validation Accuracy: 0.867 Validation F1-Score: 0.918\n",
            "Epoch: 9/10..  Training Loss: 0.517..  Validation Loss: 0.305..  Validation Accuracy: 0.867 Validation F1-Score: 0.912\n",
            "Epoch: 10/10..  Training Loss: 0.547..  Validation Loss: 0.274..  Validation Accuracy: 0.883 Validation F1-Score: 0.927\n"
          ],
          "name": "stdout"
        }
      ]
    },
    {
      "cell_type": "code",
      "metadata": {
        "id": "z-GZsckRQ5uK",
        "colab_type": "code",
        "outputId": "288edbd4-c42f-4f77-b676-e91f29e48dba",
        "colab": {
          "base_uri": "https://localhost:8080/",
          "height": 283
        }
      },
      "source": [
        "plt.plot(epochs, train_losses, 'ro')\n",
        "plt.ylabel('train losses')\n",
        "plt.xlabel('epochs')\n",
        "plt.show()"
      ],
      "execution_count": 0,
      "outputs": [
        {
          "output_type": "display_data",
          "data": {
            "image/png": "[encoded data removed]",
            "text/plain": [
              "<Figure size 432x288 with 1 Axes>"
            ]
          },
          "metadata": {
            "tags": []
          }
        }
      ]
    },
    {
      "cell_type": "code",
      "metadata": {
        "id": "jqMqa08EQ5eh",
        "colab_type": "code",
        "outputId": "75676c9e-cad5-4dc5-f0ea-bd1346d11b8c",
        "colab": {
          "base_uri": "https://localhost:8080/",
          "height": 283
        }
      },
      "source": [
        "plt.plot(epochs, validate_losses, 'ro')\n",
        "plt.ylabel('validate losses')\n",
        "plt.xlabel('epochs')\n",
        "plt.show()"
      ],
      "execution_count": 0,
      "outputs": [
        {
          "output_type": "display_data",
          "data": {
            "image/png": "[encoded data removed]",
            "text/plain": [
              "<Figure size 432x288 with 1 Axes>"
            ]
          },
          "metadata": {
            "tags": []
          }
        }
      ]
    },
    {
      "cell_type": "code",
      "metadata": {
        "id": "FvVBOcF9Q5PA",
        "colab_type": "code",
        "outputId": "476a68e1-86e5-44f0-faba-658f4ca80edd",
        "colab": {
          "base_uri": "https://localhost:8080/",
          "height": 283
        }
      },
      "source": [
        "plt.plot(epochs, accuracies, 'ro')\n",
        "plt.ylabel('accuracies')\n",
        "plt.xlabel('epochs')\n",
        "plt.show()"
      ],
      "execution_count": 0,
      "outputs": [
        {
          "output_type": "display_data",
          "data": {
            "image/png": "[encoded data removed]",
            "text/plain": [
              "<Figure size 432x288 with 1 Axes>"
            ]
          },
          "metadata": {
            "tags": []
          }
        }
      ]
    },
    {
      "cell_type": "code",
      "metadata": {
        "id": "QlU7flV1Q49n",
        "colab_type": "code",
        "outputId": "28b631fa-b532-4285-ec83-93a267a72403",
        "colab": {
          "base_uri": "https://localhost:8080/",
          "height": 283
        }
      },
      "source": [
        "plt.plot(epochs, f1_scores, 'ro')\n",
        "plt.ylabel('f1 scores')\n",
        "plt.xlabel('epochs')\n",
        "plt.show()"
      ],
      "execution_count": 0,
      "outputs": [
        {
          "output_type": "display_data",
          "data": {
            "image/png": "[encoded data removed]",
            "text/plain": [
              "<Figure size 432x288 with 1 Axes>"
            ]
          },
          "metadata": {
            "tags": []
          }
        }
      ]
    },
    {
      "cell_type": "markdown",
      "metadata": {
        "id": "RvOhd7Z71EmU",
        "colab_type": "text"
      },
      "source": [
        "## Training the Model on Three Datasets for Detecting ACL Tears\n",
        "One for the coronal exams dataset, one for the sagittal exam dataset, and one for the axial exam dataset."
      ]
    },
    {
      "cell_type": "code",
      "metadata": {
        "id": "LBCaVX8N1J1m",
        "colab_type": "code",
        "outputId": "d0d5ce6c-5942-4803-ed4e-11f590c97b1d",
        "colab": {
          "base_uri": "https://localhost:8080/",
          "height": 235
        }
      },
      "source": [
        "# training the model with the axial exam dataset\n",
        "mrnet_model_axial_acl = MRNet()\n",
        "for param in mrnet_model_axial_acl.model.parameters():\n",
        "    param.requires_grad = False\n",
        "optimizer = optim.Adam(mrnet_model_axial_acl.classifier.parameters(), lr= 0.001)\n",
        "scheduler = torch.optim.lr_scheduler.ReduceLROnPlateau(optimizer)\n",
        "mrnet_model_axial_acl.to(device)\n",
        "train_losses, validate_losses, accuracies, f1_scores = train(10, mrnet_model_axial_acl, optimizer, criterion, \n",
        "                                                             scheduler, MRNet_train_axial, MRNet_valid_axial, 'acl', 'axial_acl.pt')\n",
        "\n"
      ],
      "execution_count": 0,
      "outputs": [
        {
          "output_type": "stream",
          "text": [
            "Validation loss decreased (999999.000000 --> 1.066770).  Saving model ...\n",
            "Epoch: 1/10..  Training Loss: 0.900..  Validation Loss: 1.067..  Validation Accuracy: 0.550 Validation F1-Score: 0.000\n",
            "Epoch: 2/10..  Training Loss: 0.595..  Validation Loss: 1.548..  Validation Accuracy: 0.550 Validation F1-Score: 0.000\n",
            "Validation loss decreased (1.066770 --> 1.012847).  Saving model ...\n",
            "Epoch: 3/10..  Training Loss: 0.656..  Validation Loss: 1.013..  Validation Accuracy: 0.558 Validation F1-Score: 0.036\n",
            "Epoch: 4/10..  Training Loss: 0.649..  Validation Loss: 1.221..  Validation Accuracy: 0.558 Validation F1-Score: 0.036\n",
            "Epoch: 5/10..  Training Loss: 0.645..  Validation Loss: 1.274..  Validation Accuracy: 0.558 Validation F1-Score: 0.036\n",
            "Epoch: 6/10..  Training Loss: 0.583..  Validation Loss: 1.106..  Validation Accuracy: 0.558 Validation F1-Score: 0.036\n",
            "Epoch: 7/10..  Training Loss: 0.612..  Validation Loss: 1.021..  Validation Accuracy: 0.592 Validation F1-Score: 0.169\n",
            "Epoch: 8/10..  Training Loss: 0.638..  Validation Loss: 1.143..  Validation Accuracy: 0.575 Validation F1-Score: 0.105\n",
            "Validation loss decreased (1.012847 --> 0.781632).  Saving model ...\n",
            "Epoch: 9/10..  Training Loss: 0.661..  Validation Loss: 0.782..  Validation Accuracy: 0.617 Validation F1-Score: 0.281\n",
            "Epoch: 10/10..  Training Loss: 0.592..  Validation Loss: 1.249..  Validation Accuracy: 0.575 Validation F1-Score: 0.105\n"
          ],
          "name": "stdout"
        }
      ]
    },
    {
      "cell_type": "code",
      "metadata": {
        "id": "uL-DrERYTXjc",
        "colab_type": "code",
        "outputId": "259a26cf-a29f-4133-b5e8-f87567cb77e7",
        "colab": {
          "base_uri": "https://localhost:8080/",
          "height": 283
        }
      },
      "source": [
        "plt.plot(epochs, train_losses, 'ro')\n",
        "plt.ylabel('train losses')\n",
        "plt.xlabel('epochs')\n",
        "plt.show()"
      ],
      "execution_count": 0,
      "outputs": [
        {
          "output_type": "display_data",
          "data": {
            "image/png": "[encoded data removed]",
            "text/plain": [
              "<Figure size 432x288 with 1 Axes>"
            ]
          },
          "metadata": {
            "tags": []
          }
        }
      ]
    },
    {
      "cell_type": "code",
      "metadata": {
        "id": "IFvVqnSLTXW0",
        "colab_type": "code",
        "outputId": "86b3a5b4-5aae-4181-e41c-8ab8869f292a",
        "colab": {
          "base_uri": "https://localhost:8080/",
          "height": 283
        }
      },
      "source": [
        "plt.plot(epochs, validate_losses, 'ro')\n",
        "plt.ylabel('validate losses')\n",
        "plt.xlabel('epochs')\n",
        "plt.show()"
      ],
      "execution_count": 0,
      "outputs": [
        {
          "output_type": "display_data",
          "data": {
            "image/png": "[encoded data removed]",
            "text/plain": [
              "<Figure size 432x288 with 1 Axes>"
            ]
          },
          "metadata": {
            "tags": []
          }
        }
      ]
    },
    {
      "cell_type": "code",
      "metadata": {
        "id": "7q4Yke2DTXLL",
        "colab_type": "code",
        "outputId": "02d03c3e-64b8-4f40-89d2-6f53532d8bdd",
        "colab": {
          "base_uri": "https://localhost:8080/",
          "height": 283
        }
      },
      "source": [
        "plt.plot(epochs, accuracies, 'ro')\n",
        "plt.ylabel('accuracies')\n",
        "plt.xlabel('epochs')\n",
        "plt.show()"
      ],
      "execution_count": 0,
      "outputs": [
        {
          "output_type": "display_data",
          "data": {
            "image/png": "[encoded data removed]",
            "text/plain": [
              "<Figure size 432x288 with 1 Axes>"
            ]
          },
          "metadata": {
            "tags": []
          }
        }
      ]
    },
    {
      "cell_type": "code",
      "metadata": {
        "id": "CyKqLWYYTW9V",
        "colab_type": "code",
        "outputId": "42d62dc3-1c49-4618-b041-cf46f9d7a603",
        "colab": {
          "base_uri": "https://localhost:8080/",
          "height": 283
        }
      },
      "source": [
        "plt.plot(epochs, f1_scores, 'ro')\n",
        "plt.ylabel('f1 scores')\n",
        "plt.xlabel('epochs')\n",
        "plt.show()"
      ],
      "execution_count": 0,
      "outputs": [
        {
          "output_type": "display_data",
          "data": {
            "image/png": "[encoded data removed]",
            "text/plain": [
              "<Figure size 432x288 with 1 Axes>"
            ]
          },
          "metadata": {
            "tags": []
          }
        }
      ]
    },
    {
      "cell_type": "code",
      "metadata": {
        "id": "1s3XevLU5coi",
        "colab_type": "code",
        "outputId": "4407d2ee-8101-47a4-f562-39372d5dbbe9",
        "colab": {
          "base_uri": "https://localhost:8080/",
          "height": 235
        }
      },
      "source": [
        "# training the model with the coronal exam dataset\n",
        "mrnet_model_coronal_acl = MRNet()\n",
        "for param in mrnet_model_coronal_acl.model.parameters():\n",
        "    param.requires_grad = False\n",
        "optimizer = optim.Adam(mrnet_model_coronal_acl.classifier.parameters(), lr= 0.001)\n",
        "scheduler = torch.optim.lr_scheduler.ReduceLROnPlateau(optimizer)\n",
        "mrnet_model_coronal_acl.to(device)\n",
        "train_losses, validate_losses, accuracies, f1_scores = train(10, mrnet_model_coronal_acl, optimizer, criterion, \n",
        "                                                             scheduler, MRNet_train_coronal, MRNet_valid_coronal, 'acl', 'coronal_acl.pt')\n"
      ],
      "execution_count": 0,
      "outputs": [
        {
          "output_type": "stream",
          "text": [
            "Validation loss decreased (999999.000000 --> 1.151996).  Saving model ...\n",
            "Epoch: 1/10..  Training Loss: 0.980..  Validation Loss: 1.152..  Validation Accuracy: 0.550 Validation F1-Score: 0.000\n",
            "Epoch: 2/10..  Training Loss: 0.601..  Validation Loss: 1.252..  Validation Accuracy: 0.550 Validation F1-Score: 0.000\n",
            "Epoch: 3/10..  Training Loss: 0.604..  Validation Loss: 2.187..  Validation Accuracy: 0.550 Validation F1-Score: 0.000\n",
            "Epoch: 4/10..  Training Loss: 0.661..  Validation Loss: 1.826..  Validation Accuracy: 0.550 Validation F1-Score: 0.000\n",
            "Validation loss decreased (1.151996 --> 1.090055).  Saving model ...\n",
            "Epoch: 5/10..  Training Loss: 0.622..  Validation Loss: 1.090..  Validation Accuracy: 0.550 Validation F1-Score: 0.000\n",
            "Epoch: 6/10..  Training Loss: 0.637..  Validation Loss: 1.580..  Validation Accuracy: 0.550 Validation F1-Score: 0.000\n",
            "Validation loss decreased (1.090055 --> 1.006934).  Saving model ...\n",
            "Epoch: 7/10..  Training Loss: 0.648..  Validation Loss: 1.007..  Validation Accuracy: 0.550 Validation F1-Score: 0.000\n",
            "Epoch: 8/10..  Training Loss: 0.626..  Validation Loss: 1.326..  Validation Accuracy: 0.550 Validation F1-Score: 0.000\n",
            "Epoch: 9/10..  Training Loss: 0.628..  Validation Loss: 1.228..  Validation Accuracy: 0.550 Validation F1-Score: 0.000\n",
            "Epoch: 10/10..  Training Loss: 0.599..  Validation Loss: 1.137..  Validation Accuracy: 0.550 Validation F1-Score: 0.000\n"
          ],
          "name": "stdout"
        }
      ]
    },
    {
      "cell_type": "code",
      "metadata": {
        "id": "T-WHJX-gTidF",
        "colab_type": "code",
        "outputId": "8850266f-142b-4d4f-c0b5-a394ab91e744",
        "colab": {
          "base_uri": "https://localhost:8080/",
          "height": 284
        }
      },
      "source": [
        "plt.plot(epochs, train_losses, 'ro')\n",
        "plt.ylabel('train losses')\n",
        "plt.xlabel('epochs')\n",
        "plt.show()"
      ],
      "execution_count": 0,
      "outputs": [
        {
          "output_type": "display_data",
          "data": {
            "image/png": "[encoded data removed]",
            "text/plain": [
              "<Figure size 432x288 with 1 Axes>"
            ]
          },
          "metadata": {
            "tags": []
          }
        }
      ]
    },
    {
      "cell_type": "code",
      "metadata": {
        "id": "nEtDNkOkTiSO",
        "colab_type": "code",
        "outputId": "9f8c5e66-8bd7-4675-93be-a59d66f7560f",
        "colab": {
          "base_uri": "https://localhost:8080/",
          "height": 283
        }
      },
      "source": [
        "plt.plot(epochs, validate_losses, 'ro')\n",
        "plt.ylabel('validate losses')\n",
        "plt.xlabel('epochs')\n",
        "plt.show()"
      ],
      "execution_count": 0,
      "outputs": [
        {
          "output_type": "display_data",
          "data": {
            "image/png": "[encoded data removed]",
            "text/plain": [
              "<Figure size 432x288 with 1 Axes>"
            ]
          },
          "metadata": {
            "tags": []
          }
        }
      ]
    },
    {
      "cell_type": "code",
      "metadata": {
        "id": "kKw3EiFITiHx",
        "colab_type": "code",
        "outputId": "de69a734-b707-458b-c9dd-0852c6af606e",
        "colab": {
          "base_uri": "https://localhost:8080/",
          "height": 283
        }
      },
      "source": [
        "plt.plot(epochs, accuracies, 'ro')\n",
        "plt.ylabel('accuracies')\n",
        "plt.xlabel('epochs')\n",
        "plt.show()"
      ],
      "execution_count": 0,
      "outputs": [
        {
          "output_type": "display_data",
          "data": {
            "image/png": "[encoded data removed]",
            "text/plain": [
              "<Figure size 432x288 with 1 Axes>"
            ]
          },
          "metadata": {
            "tags": []
          }
        }
      ]
    },
    {
      "cell_type": "code",
      "metadata": {
        "id": "ob2Eh1ddTh7U",
        "colab_type": "code",
        "outputId": "7a923d7d-6028-4477-be5f-33b5c9549bb2",
        "colab": {
          "base_uri": "https://localhost:8080/",
          "height": 283
        }
      },
      "source": [
        "plt.plot(epochs, f1_scores, 'ro')\n",
        "plt.ylabel('f1 scores')\n",
        "plt.xlabel('epochs')\n",
        "plt.show()"
      ],
      "execution_count": 0,
      "outputs": [
        {
          "output_type": "display_data",
          "data": {
            "image/png": "[encoded data removed]",
            "text/plain": [
              "<Figure size 432x288 with 1 Axes>"
            ]
          },
          "metadata": {
            "tags": []
          }
        }
      ]
    },
    {
      "cell_type": "code",
      "metadata": {
        "id": "R7_K0Y0W5kmO",
        "colab_type": "code",
        "outputId": "f6531b2e-77c1-4990-c131-ca64d2cf7c6d",
        "colab": {
          "base_uri": "https://localhost:8080/",
          "height": 218
        }
      },
      "source": [
        "# training the model with the sagittal exam dataset\n",
        "mrnet_model_sagittal_acl = MRNet()\n",
        "for param in mrnet_model_sagittal_acl.model.parameters():\n",
        "    param.requires_grad = False\n",
        "optimizer = optim.Adam(mrnet_model_sagittal_acl.classifier.parameters(), lr= 0.001)\n",
        "scheduler = torch.optim.lr_scheduler.ReduceLROnPlateau(optimizer)\n",
        "mrnet_model_sagittal_acl.to(device)\n",
        "train_losses, validate_losses, accuracies, f1_scores = train(10, mrnet_model_sagittal_acl, optimizer, criterion, \n",
        "                                                             scheduler, MRNet_train_sagittal, MRNet_valid_sagittal, 'acl', 'sagittal_acl.pt')\n",
        "\n"
      ],
      "execution_count": 0,
      "outputs": [
        {
          "output_type": "stream",
          "text": [
            "Validation loss decreased (999999.000000 --> 1.194997).  Saving model ...\n",
            "Epoch: 1/10..  Training Loss: 0.845..  Validation Loss: 1.195..  Validation Accuracy: 0.550 Validation F1-Score: 0.000\n",
            "Epoch: 2/10..  Training Loss: 0.557..  Validation Loss: 1.438..  Validation Accuracy: 0.550 Validation F1-Score: 0.000\n",
            "Epoch: 3/10..  Training Loss: 0.617..  Validation Loss: 1.200..  Validation Accuracy: 0.567 Validation F1-Score: 0.071\n",
            "Epoch: 4/10..  Training Loss: 0.592..  Validation Loss: 1.469..  Validation Accuracy: 0.550 Validation F1-Score: 0.000\n",
            "Epoch: 5/10..  Training Loss: 0.591..  Validation Loss: 1.288..  Validation Accuracy: 0.550 Validation F1-Score: 0.000\n",
            "Epoch: 6/10..  Training Loss: 0.593..  Validation Loss: 1.274..  Validation Accuracy: 0.567 Validation F1-Score: 0.071\n",
            "Epoch: 7/10..  Training Loss: 0.558..  Validation Loss: 1.338..  Validation Accuracy: 0.567 Validation F1-Score: 0.071\n",
            "Epoch: 8/10..  Training Loss: 0.569..  Validation Loss: 1.721..  Validation Accuracy: 0.550 Validation F1-Score: 0.000\n",
            "Epoch: 9/10..  Training Loss: 0.597..  Validation Loss: 1.525..  Validation Accuracy: 0.558 Validation F1-Score: 0.036\n",
            "Validation loss decreased (1.194997 --> 1.131599).  Saving model ...\n",
            "Epoch: 10/10..  Training Loss: 0.547..  Validation Loss: 1.132..  Validation Accuracy: 0.567 Validation F1-Score: 0.103\n"
          ],
          "name": "stdout"
        }
      ]
    },
    {
      "cell_type": "code",
      "metadata": {
        "id": "JE4tIq36T8lX",
        "colab_type": "code",
        "outputId": "c168f787-32ca-4ed6-f93f-05f060b384c4",
        "colab": {
          "base_uri": "https://localhost:8080/",
          "height": 283
        }
      },
      "source": [
        "plt.plot(epochs, train_losses, 'ro')\n",
        "plt.ylabel('train losses')\n",
        "plt.xlabel('epochs')\n",
        "plt.show()"
      ],
      "execution_count": 0,
      "outputs": [
        {
          "output_type": "display_data",
          "data": {
            "image/png": "[encoded data removed]",
            "text/plain": [
              "<Figure size 432x288 with 1 Axes>"
            ]
          },
          "metadata": {
            "tags": []
          }
        }
      ]
    },
    {
      "cell_type": "code",
      "metadata": {
        "id": "kL4eMVcOT8ae",
        "colab_type": "code",
        "outputId": "054ef687-e904-4174-d8b6-f1bdf610df92",
        "colab": {
          "base_uri": "https://localhost:8080/",
          "height": 283
        }
      },
      "source": [
        "plt.plot(epochs, validate_losses, 'ro')\n",
        "plt.ylabel('validate losses')\n",
        "plt.xlabel('epochs')\n",
        "plt.show()"
      ],
      "execution_count": 0,
      "outputs": [
        {
          "output_type": "display_data",
          "data": {
            "image/png": "[encoded data removed]",
            "text/plain": [
              "<Figure size 432x288 with 1 Axes>"
            ]
          },
          "metadata": {
            "tags": []
          }
        }
      ]
    },
    {
      "cell_type": "code",
      "metadata": {
        "id": "kZJGVmlGT8P6",
        "colab_type": "code",
        "outputId": "d5f240ae-2790-4fc5-95c6-9bb4b8c8a938",
        "colab": {
          "base_uri": "https://localhost:8080/",
          "height": 283
        }
      },
      "source": [
        "plt.plot(epochs, accuracies, 'ro')\n",
        "plt.ylabel('accuracies')\n",
        "plt.xlabel('epochs')\n",
        "plt.show()"
      ],
      "execution_count": 0,
      "outputs": [
        {
          "output_type": "display_data",
          "data": {
            "image/png": "[encoded data removed]",
            "text/plain": [
              "<Figure size 432x288 with 1 Axes>"
            ]
          },
          "metadata": {
            "tags": []
          }
        }
      ]
    },
    {
      "cell_type": "code",
      "metadata": {
        "id": "Ga9OJPmVT8FW",
        "colab_type": "code",
        "outputId": "a5652f25-c43e-4d86-a23d-664b38b9e7e7",
        "colab": {
          "base_uri": "https://localhost:8080/",
          "height": 283
        }
      },
      "source": [
        "plt.plot(epochs, f1_scores, 'ro')\n",
        "plt.ylabel('f1 scores')\n",
        "plt.xlabel('epochs')\n",
        "plt.show()"
      ],
      "execution_count": 0,
      "outputs": [
        {
          "output_type": "display_data",
          "data": {
            "image/png": "[encoded data removed]",
            "text/plain": [
              "<Figure size 432x288 with 1 Axes>"
            ]
          },
          "metadata": {
            "tags": []
          }
        }
      ]
    },
    {
      "cell_type": "markdown",
      "metadata": {
        "id": "k8PHYCRh1N1t",
        "colab_type": "text"
      },
      "source": [
        "## Training the Model on Three Datasets for Detecting Meniscal Tears\n",
        "One for the coronal exams dataset, one for the sagittal exam dataset, and one for the axial exam dataset."
      ]
    },
    {
      "cell_type": "code",
      "metadata": {
        "id": "EsoRr8Ew1qoO",
        "colab_type": "code",
        "outputId": "a7129619-3326-4fe8-da8d-f38c049596ca",
        "colab": {
          "base_uri": "https://localhost:8080/",
          "height": 235
        }
      },
      "source": [
        "# training the model with the axial exam dataset\n",
        "mrnet_model_axial_meniscus = MRNet()\n",
        "for param in mrnet_model_axial_meniscus.model.parameters():\n",
        "    param.requires_grad = False\n",
        "optimizer = optim.Adam(mrnet_model_axial_meniscus.classifier.parameters(), lr= 0.001)\n",
        "scheduler = torch.optim.lr_scheduler.ReduceLROnPlateau(optimizer)\n",
        "mrnet_model_axial_meniscus.to(device)\n",
        "train_losses, validate_losses, accuracies, f1_scores = train(10, mrnet_model_axial_meniscus, optimizer, criterion, \n",
        "                                                             scheduler, MRNet_train_axial, MRNet_valid_axial, 'meniscus', 'axial_meniscus.pt')\n"
      ],
      "execution_count": 0,
      "outputs": [
        {
          "output_type": "stream",
          "text": [
            "Validation loss decreased (999999.000000 --> 0.831929).  Saving model ...\n",
            "Epoch: 1/10..  Training Loss: 1.044..  Validation Loss: 0.832..  Validation Accuracy: 0.567 Validation F1-Score: 0.000\n",
            "Validation loss decreased (0.831929 --> 0.744761).  Saving model ...\n",
            "Epoch: 2/10..  Training Loss: 0.753..  Validation Loss: 0.745..  Validation Accuracy: 0.550 Validation F1-Score: 0.036\n",
            "Validation loss decreased (0.744761 --> 0.732913).  Saving model ...\n",
            "Epoch: 3/10..  Training Loss: 0.756..  Validation Loss: 0.733..  Validation Accuracy: 0.550 Validation F1-Score: 0.069\n",
            "Epoch: 4/10..  Training Loss: 0.782..  Validation Loss: 1.119..  Validation Accuracy: 0.567 Validation F1-Score: 0.000\n",
            "Epoch: 5/10..  Training Loss: 0.778..  Validation Loss: 0.896..  Validation Accuracy: 0.542 Validation F1-Score: 0.000\n",
            "Epoch: 6/10..  Training Loss: 0.780..  Validation Loss: 0.938..  Validation Accuracy: 0.558 Validation F1-Score: 0.036\n",
            "Epoch: 7/10..  Training Loss: 0.804..  Validation Loss: 0.882..  Validation Accuracy: 0.575 Validation F1-Score: 0.073\n",
            "Epoch: 8/10..  Training Loss: 0.777..  Validation Loss: 1.164..  Validation Accuracy: 0.567 Validation F1-Score: 0.000\n",
            "Epoch: 9/10..  Training Loss: 0.759..  Validation Loss: 0.735..  Validation Accuracy: 0.642 Validation F1-Score: 0.469\n",
            "Epoch: 10/10..  Training Loss: 0.786..  Validation Loss: 0.908..  Validation Accuracy: 0.600 Validation F1-Score: 0.226\n"
          ],
          "name": "stdout"
        }
      ]
    },
    {
      "cell_type": "code",
      "metadata": {
        "id": "M9XApQyYUVFE",
        "colab_type": "code",
        "outputId": "974d362f-aa0a-4b09-b27c-6304e6b10810",
        "colab": {
          "base_uri": "https://localhost:8080/",
          "height": 283
        }
      },
      "source": [
        "plt.plot(epochs, train_losses, 'ro')\n",
        "plt.ylabel('train losses')\n",
        "plt.xlabel('epochs')\n",
        "plt.show()"
      ],
      "execution_count": 0,
      "outputs": [
        {
          "output_type": "display_data",
          "data": {
            "image/png": "[encoded data removed]",
            "text/plain": [
              "<Figure size 432x288 with 1 Axes>"
            ]
          },
          "metadata": {
            "tags": []
          }
        }
      ]
    },
    {
      "cell_type": "code",
      "metadata": {
        "id": "MU3aynvrUU6P",
        "colab_type": "code",
        "outputId": "76164d53-3b0a-4405-c7d5-8fca4f935a90",
        "colab": {
          "base_uri": "https://localhost:8080/",
          "height": 283
        }
      },
      "source": [
        "plt.plot(epochs, validate_losses, 'ro')\n",
        "plt.ylabel('validate losses')\n",
        "plt.xlabel('epochs')\n",
        "plt.show()"
      ],
      "execution_count": 0,
      "outputs": [
        {
          "output_type": "display_data",
          "data": {
            "image/png": "[encoded data removed]",
            "text/plain": [
              "<Figure size 432x288 with 1 Axes>"
            ]
          },
          "metadata": {
            "tags": []
          }
        }
      ]
    },
    {
      "cell_type": "code",
      "metadata": {
        "id": "Op0-uA66UUvr",
        "colab_type": "code",
        "outputId": "9c1a678a-4886-4783-ce21-36e84f28ce45",
        "colab": {
          "base_uri": "https://localhost:8080/",
          "height": 283
        }
      },
      "source": [
        "plt.plot(epochs, accuracies, 'ro')\n",
        "plt.ylabel('accuracies')\n",
        "plt.xlabel('epochs')\n",
        "plt.show()"
      ],
      "execution_count": 0,
      "outputs": [
        {
          "output_type": "display_data",
          "data": {
            "image/png": "[encoded data removed]",
            "text/plain": [
              "<Figure size 432x288 with 1 Axes>"
            ]
          },
          "metadata": {
            "tags": []
          }
        }
      ]
    },
    {
      "cell_type": "code",
      "metadata": {
        "id": "9UwSExFZUUjs",
        "colab_type": "code",
        "outputId": "9e4796cc-0c4c-40cc-e3cf-8f7094929199",
        "colab": {
          "base_uri": "https://localhost:8080/",
          "height": 283
        }
      },
      "source": [
        "plt.plot(epochs, f1_scores, 'ro')\n",
        "plt.ylabel('f1 scores')\n",
        "plt.xlabel('epochs')\n",
        "plt.show()"
      ],
      "execution_count": 0,
      "outputs": [
        {
          "output_type": "display_data",
          "data": {
            "image/png": "[encoded data removed]",
            "text/plain": [
              "<Figure size 432x288 with 1 Axes>"
            ]
          },
          "metadata": {
            "tags": []
          }
        }
      ]
    },
    {
      "cell_type": "code",
      "metadata": {
        "id": "dbW9N1ll6dvG",
        "colab_type": "code",
        "outputId": "ff9dc0d0-b31d-4036-8d3c-d6f9aea3a1bb",
        "colab": {
          "base_uri": "https://localhost:8080/",
          "height": 235
        }
      },
      "source": [
        "# training the model with the coronal exam dataset\n",
        "mrnet_model_coronal_meniscus = MRNet()\n",
        "for param in mrnet_model_coronal_meniscus.model.parameters():\n",
        "    param.requires_grad = False\n",
        "optimizer = optim.Adam(mrnet_model_coronal_meniscus.classifier.parameters(), lr= 0.001)\n",
        "scheduler = torch.optim.lr_scheduler.ReduceLROnPlateau(optimizer)\n",
        "mrnet_model_coronal_meniscus.to(device)\n",
        "train_losses, validate_losses, accuracies, f1_scores = train(10, mrnet_model_coronal_meniscus, optimizer, criterion, \n",
        "                                                             scheduler, MRNet_train_coronal, MRNet_valid_coronal, 'meniscus', 'coronal_meniscus.pt')\n",
        "\n"
      ],
      "execution_count": 0,
      "outputs": [
        {
          "output_type": "stream",
          "text": [
            "Validation loss decreased (999999.000000 --> 0.715655).  Saving model ...\n",
            "Epoch: 1/10..  Training Loss: 0.985..  Validation Loss: 0.716..  Validation Accuracy: 0.583 Validation F1-Score: 0.074\n",
            "Epoch: 2/10..  Training Loss: 0.770..  Validation Loss: 0.998..  Validation Accuracy: 0.575 Validation F1-Score: 0.038\n",
            "Epoch: 3/10..  Training Loss: 0.770..  Validation Loss: 0.959..  Validation Accuracy: 0.575 Validation F1-Score: 0.038\n",
            "Epoch: 4/10..  Training Loss: 0.765..  Validation Loss: 0.754..  Validation Accuracy: 0.592 Validation F1-Score: 0.109\n",
            "Epoch: 5/10..  Training Loss: 0.777..  Validation Loss: 0.970..  Validation Accuracy: 0.575 Validation F1-Score: 0.038\n",
            "Epoch: 6/10..  Training Loss: 0.767..  Validation Loss: 0.768..  Validation Accuracy: 0.583 Validation F1-Score: 0.107\n",
            "Validation loss decreased (0.715655 --> 0.666602).  Saving model ...\n",
            "Epoch: 7/10..  Training Loss: 0.786..  Validation Loss: 0.667..  Validation Accuracy: 0.658 Validation F1-Score: 0.369\n",
            "Epoch: 8/10..  Training Loss: 0.740..  Validation Loss: 0.818..  Validation Accuracy: 0.600 Validation F1-Score: 0.172\n",
            "Validation loss decreased (0.666602 --> 0.610410).  Saving model ...\n",
            "Epoch: 9/10..  Training Loss: 0.774..  Validation Loss: 0.610..  Validation Accuracy: 0.700 Validation F1-Score: 0.514\n",
            "Epoch: 10/10..  Training Loss: 0.730..  Validation Loss: 0.794..  Validation Accuracy: 0.625 Validation F1-Score: 0.262\n"
          ],
          "name": "stdout"
        }
      ]
    },
    {
      "cell_type": "code",
      "metadata": {
        "id": "4rTVTEaxUd82",
        "colab_type": "code",
        "outputId": "763538c2-48f1-4ae2-aa82-8d539ac55506",
        "colab": {
          "base_uri": "https://localhost:8080/",
          "height": 283
        }
      },
      "source": [
        "plt.plot(epochs, train_losses, 'ro')\n",
        "plt.ylabel('train losses')\n",
        "plt.xlabel('epochs')\n",
        "plt.show()"
      ],
      "execution_count": 0,
      "outputs": [
        {
          "output_type": "display_data",
          "data": {
            "image/png": "[encoded data removed]",
            "text/plain": [
              "<Figure size 432x288 with 1 Axes>"
            ]
          },
          "metadata": {
            "tags": []
          }
        }
      ]
    },
    {
      "cell_type": "code",
      "metadata": {
        "id": "FMOUFQpYUdwT",
        "colab_type": "code",
        "outputId": "c5410f92-98aa-482a-a888-73dbd65d1211",
        "colab": {
          "base_uri": "https://localhost:8080/",
          "height": 283
        }
      },
      "source": [
        "plt.plot(epochs, validate_losses, 'ro')\n",
        "plt.ylabel('validate losses')\n",
        "plt.xlabel('epochs')\n",
        "plt.show()"
      ],
      "execution_count": 0,
      "outputs": [
        {
          "output_type": "display_data",
          "data": {
            "image/png": "[encoded data removed]",
            "text/plain": [
              "<Figure size 432x288 with 1 Axes>"
            ]
          },
          "metadata": {
            "tags": []
          }
        }
      ]
    },
    {
      "cell_type": "code",
      "metadata": {
        "id": "KKNI4oxgUdlC",
        "colab_type": "code",
        "outputId": "b6ef3b39-f075-4a3d-f9cd-c39dda6f5f3c",
        "colab": {
          "base_uri": "https://localhost:8080/",
          "height": 283
        }
      },
      "source": [
        "plt.plot(epochs, accuracies, 'ro')\n",
        "plt.ylabel('accuracies')\n",
        "plt.xlabel('epochs')\n",
        "plt.show()"
      ],
      "execution_count": 0,
      "outputs": [
        {
          "output_type": "display_data",
          "data": {
            "image/png": "[encoded data removed]",
            "text/plain": [
              "<Figure size 432x288 with 1 Axes>"
            ]
          },
          "metadata": {
            "tags": []
          }
        }
      ]
    },
    {
      "cell_type": "code",
      "metadata": {
        "id": "quZaj9SmUdXY",
        "colab_type": "code",
        "outputId": "6101c7c3-45b7-41ca-ec4a-7b0c066627a2",
        "colab": {
          "base_uri": "https://localhost:8080/",
          "height": 283
        }
      },
      "source": [
        "plt.plot(epochs, f1_scores, 'ro')\n",
        "plt.ylabel('f1 scores')\n",
        "plt.xlabel('epochs')\n",
        "plt.show()"
      ],
      "execution_count": 0,
      "outputs": [
        {
          "output_type": "display_data",
          "data": {
            "image/png": "[encoded data removed]",
            "text/plain": [
              "<Figure size 432x288 with 1 Axes>"
            ]
          },
          "metadata": {
            "tags": []
          }
        }
      ]
    },
    {
      "cell_type": "code",
      "metadata": {
        "id": "2wutI9Ni6h4n",
        "colab_type": "code",
        "outputId": "e5a8ba9a-e536-4411-8ace-20e0e7801b94",
        "colab": {
          "base_uri": "https://localhost:8080/",
          "height": 235
        }
      },
      "source": [
        "# training the model with the sagittal exam dataset\n",
        "mrnet_model_sagittal_meniscus = MRNet()\n",
        "for param in mrnet_model_sagittal_meniscus.model.parameters():\n",
        "    param.requires_grad = False\n",
        "optimizer = optim.Adam(mrnet_model_sagittal_meniscus.classifier.parameters(), lr= 0.001)\n",
        "scheduler = torch.optim.lr_scheduler.ReduceLROnPlateau(optimizer)\n",
        "mrnet_model_sagittal_meniscus.to(device)\n",
        "train_losses, validate_losses, accuracies, f1_scores = train(10, mrnet_model_sagittal_meniscus, optimizer, criterion, \n",
        "                                                             scheduler, MRNet_train_sagittal, MRNet_valid_sagittal, 'meniscus', 'sagittal_meniscus.pt')\n"
      ],
      "execution_count": 0,
      "outputs": [
        {
          "output_type": "stream",
          "text": [
            "Validation loss decreased (999999.000000 --> 0.806733).  Saving model ...\n",
            "Epoch: 1/10..  Training Loss: 1.006..  Validation Loss: 0.807..  Validation Accuracy: 0.575 Validation F1-Score: 0.038\n",
            "Validation loss decreased (0.806733 --> 0.744928).  Saving model ...\n",
            "Epoch: 2/10..  Training Loss: 0.726..  Validation Loss: 0.745..  Validation Accuracy: 0.575 Validation F1-Score: 0.038\n",
            "Epoch: 3/10..  Training Loss: 0.755..  Validation Loss: 0.821..  Validation Accuracy: 0.583 Validation F1-Score: 0.074\n",
            "Validation loss decreased (0.744928 --> 0.595023).  Saving model ...\n",
            "Epoch: 4/10..  Training Loss: 0.756..  Validation Loss: 0.595..  Validation Accuracy: 0.667 Validation F1-Score: 0.556\n",
            "Epoch: 5/10..  Training Loss: 0.759..  Validation Loss: 0.861..  Validation Accuracy: 0.600 Validation F1-Score: 0.143\n",
            "Epoch: 6/10..  Training Loss: 0.761..  Validation Loss: 0.697..  Validation Accuracy: 0.650 Validation F1-Score: 0.323\n",
            "Epoch: 7/10..  Training Loss: 0.748..  Validation Loss: 0.621..  Validation Accuracy: 0.658 Validation F1-Score: 0.506\n",
            "Epoch: 8/10..  Training Loss: 0.755..  Validation Loss: 0.712..  Validation Accuracy: 0.667 Validation F1-Score: 0.394\n",
            "Epoch: 9/10..  Training Loss: 0.741..  Validation Loss: 0.668..  Validation Accuracy: 0.667 Validation F1-Score: 0.444\n",
            "Epoch: 10/10..  Training Loss: 0.711..  Validation Loss: 0.622..  Validation Accuracy: 0.692 Validation F1-Score: 0.575\n"
          ],
          "name": "stdout"
        }
      ]
    },
    {
      "cell_type": "code",
      "metadata": {
        "id": "uWFabV3TUm7A",
        "colab_type": "code",
        "outputId": "90469acf-b961-41fc-822c-b59373a0a679",
        "colab": {
          "base_uri": "https://localhost:8080/",
          "height": 283
        }
      },
      "source": [
        "plt.plot(epochs, train_losses, 'ro')\n",
        "plt.ylabel('train losses')\n",
        "plt.xlabel('epochs')\n",
        "plt.show()"
      ],
      "execution_count": 0,
      "outputs": [
        {
          "output_type": "display_data",
          "data": {
            "image/png": "[encoded data removed]",
            "text/plain": [
              "<Figure size 432x288 with 1 Axes>"
            ]
          },
          "metadata": {
            "tags": []
          }
        }
      ]
    },
    {
      "cell_type": "code",
      "metadata": {
        "id": "dqNH57UqUmuz",
        "colab_type": "code",
        "outputId": "9ce5b58e-be9b-4598-d67c-f2a33e66e9b8",
        "colab": {
          "base_uri": "https://localhost:8080/",
          "height": 283
        }
      },
      "source": [
        "plt.plot(epochs, validate_losses, 'ro')\n",
        "plt.ylabel('validate losses')\n",
        "plt.xlabel('epochs')\n",
        "plt.show()"
      ],
      "execution_count": 0,
      "outputs": [
        {
          "output_type": "display_data",
          "data": {
            "image/png": "[encoded data removed]",
            "text/plain": [
              "<Figure size 432x288 with 1 Axes>"
            ]
          },
          "metadata": {
            "tags": []
          }
        }
      ]
    },
    {
      "cell_type": "code",
      "metadata": {
        "id": "XCE8aghBUmnF",
        "colab_type": "code",
        "outputId": "d8ae3349-7bd4-4b89-d76f-f533cbf80bf2",
        "colab": {
          "base_uri": "https://localhost:8080/",
          "height": 283
        }
      },
      "source": [
        "plt.plot(epochs, accuracies, 'ro')\n",
        "plt.ylabel('accuracies')\n",
        "plt.xlabel('epochs')\n",
        "plt.show()"
      ],
      "execution_count": 0,
      "outputs": [
        {
          "output_type": "display_data",
          "data": {
            "image/png": "[encoded data removed]",
            "text/plain": [
              "<Figure size 432x288 with 1 Axes>"
            ]
          },
          "metadata": {
            "tags": []
          }
        }
      ]
    },
    {
      "cell_type": "code",
      "metadata": {
        "id": "GLF53m6JUmgc",
        "colab_type": "code",
        "outputId": "97e5319a-e4f1-4c26-f9db-0e0edc3c3736",
        "colab": {
          "base_uri": "https://localhost:8080/",
          "height": 283
        }
      },
      "source": [
        "plt.plot(epochs, f1_scores, 'ro')\n",
        "plt.ylabel('f1 scores')\n",
        "plt.xlabel('epochs')\n",
        "plt.show()"
      ],
      "execution_count": 0,
      "outputs": [
        {
          "output_type": "display_data",
          "data": {
            "image/png": "[encoded data removed]",
            "text/plain": [
              "<Figure size 432x288 with 1 Axes>"
            ]
          },
          "metadata": {
            "tags": []
          }
        }
      ]
    },
    {
      "cell_type": "code",
      "metadata": {
        "id": "vXrEDgLStMvh",
        "colab_type": "code",
        "colab": {}
      },
      "source": [
        "!cp axial_abnormal.pt axial_acl.pt axial_meniscus.pt coronal_abnormal.pt coronal_acl.pt coronal_meniscus.pt sagittal_abnormal.pt sagittal_acl.pt sagittal_meniscus.pt \"/content/gdrive/My Drive/MR-NET\" "
      ],
      "execution_count": 0,
      "outputs": []
    },
    {
      "cell_type": "code",
      "metadata": {
        "id": "WSe307Dqj7_i",
        "colab_type": "code",
        "colab": {}
      },
      "source": [
        ""
      ],
      "execution_count": 0,
      "outputs": []
    }
  ]
}